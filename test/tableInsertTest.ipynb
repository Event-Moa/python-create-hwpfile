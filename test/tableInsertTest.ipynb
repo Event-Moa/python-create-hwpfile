{
 "cells": [
  {
   "cell_type": "code",
   "execution_count": 338,
   "outputs": [],
   "source": [
    "# MIT License\n",
    "# \n",
    "# Copyright (c) 2024 [저작권자 이름]\n",
    "# \n",
    "# This software is released under the MIT License.\n",
    "# https://opensource.org/licenses/MIT\n"
   ],
   "metadata": {
    "collapsed": false,
    "ExecuteTime": {
     "end_time": "2024-11-07T10:48:06.132168200Z",
     "start_time": "2024-11-07T10:48:06.113347700Z"
    }
   },
   "id": "4fe07a310641c4c7"
  },
  {
   "cell_type": "code",
   "execution_count": 337,
   "id": "initial_id",
   "metadata": {
    "collapsed": true,
    "ExecuteTime": {
     "end_time": "2024-11-07T10:35:02.704926100Z",
     "start_time": "2024-11-07T10:35:00.364672600Z"
    }
   },
   "outputs": [
    {
     "data": {
      "text/plain": "True"
     },
     "execution_count": 337,
     "metadata": {},
     "output_type": "execute_result"
    }
   ],
   "source": [
    "from pyhwpx import Hwp\n",
    "import win32com.client as win32\n",
    "import pandas as pd\n",
    "hwp = Hwp()\n",
    "hwp.Open(r\"./template2.hwp\") # 주간행사계획 한글파일 상대경로"
   ]
  },
  {
   "cell_type": "code",
   "execution_count": 309,
   "outputs": [
    {
     "data": {
      "text/plain": "         date      time                     eventname        place personnel  \\\n14  4. 13.(토)  10:00:00   ·2024년 특성화 사업 제1회차‘인문학 콘서트’  유성문화원 1층전시실       30명   \n15  4. 13.(토)  10:00:00         ·행복한 문화학교 「햄스터 로봇 코딩」        유성도서관       14명   \n16  4. 13.(토)  15:00:00    ·노은도서관 동화 들려주기(Story Time)        노은도서관       40명   \n17  4. 13.(토)  15:00:00  ·독서프로그램 「귀 기울여 영어동화」 영어원서 읽기   어린이영어마을도서관       10명   \n18  4. 14.(일)                                                                  \n\n   department note  \n14      문화관광과       \n15     도서관운영과       \n16     도서관운영과       \n17     도서관운영과       \n18                  ",
      "text/html": "<div>\n<style scoped>\n    .dataframe tbody tr th:only-of-type {\n        vertical-align: middle;\n    }\n\n    .dataframe tbody tr th {\n        vertical-align: top;\n    }\n\n    .dataframe thead th {\n        text-align: right;\n    }\n</style>\n<table border=\"1\" class=\"dataframe\">\n  <thead>\n    <tr style=\"text-align: right;\">\n      <th></th>\n      <th>date</th>\n      <th>time</th>\n      <th>eventname</th>\n      <th>place</th>\n      <th>personnel</th>\n      <th>department</th>\n      <th>note</th>\n    </tr>\n  </thead>\n  <tbody>\n    <tr>\n      <th>14</th>\n      <td>4. 13.(토)</td>\n      <td>10:00:00</td>\n      <td>·2024년 특성화 사업 제1회차‘인문학 콘서트’</td>\n      <td>유성문화원 1층전시실</td>\n      <td>30명</td>\n      <td>문화관광과</td>\n      <td></td>\n    </tr>\n    <tr>\n      <th>15</th>\n      <td>4. 13.(토)</td>\n      <td>10:00:00</td>\n      <td>·행복한 문화학교 「햄스터 로봇 코딩」</td>\n      <td>유성도서관</td>\n      <td>14명</td>\n      <td>도서관운영과</td>\n      <td></td>\n    </tr>\n    <tr>\n      <th>16</th>\n      <td>4. 13.(토)</td>\n      <td>15:00:00</td>\n      <td>·노은도서관 동화 들려주기(Story Time)</td>\n      <td>노은도서관</td>\n      <td>40명</td>\n      <td>도서관운영과</td>\n      <td></td>\n    </tr>\n    <tr>\n      <th>17</th>\n      <td>4. 13.(토)</td>\n      <td>15:00:00</td>\n      <td>·독서프로그램 「귀 기울여 영어동화」 영어원서 읽기</td>\n      <td>어린이영어마을도서관</td>\n      <td>10명</td>\n      <td>도서관운영과</td>\n      <td></td>\n    </tr>\n    <tr>\n      <th>18</th>\n      <td>4. 14.(일)</td>\n      <td></td>\n      <td></td>\n      <td></td>\n      <td></td>\n      <td></td>\n      <td></td>\n    </tr>\n  </tbody>\n</table>\n</div>"
     },
     "execution_count": 309,
     "metadata": {},
     "output_type": "execute_result"
    }
   ],
   "source": [
    "df = pd.read_excel(\"eventdummy.xlsx\")\n",
    "#엑셀에서 더미데이터 read\n",
    "df = df.replace(r'\\n', '', regex=True)\n",
    "# 데이터안에 \\n 다지우기\n",
    "\n",
    "df = df.fillna(\" \")  # NaN 값을 으로 채우기\n",
    "df.tail()"
   ],
   "metadata": {
    "collapsed": false,
    "ExecuteTime": {
     "end_time": "2024-11-07T10:26:01.692579800Z",
     "start_time": "2024-11-07T10:26:01.648373600Z"
    }
   },
   "id": "1a649d650094cd15"
  },
  {
   "cell_type": "code",
   "execution_count": 310,
   "outputs": [
    {
     "data": {
      "text/plain": "date\n4. 13.(토)     6\n4. 11.(목)     4\n4. 8.(월)      3\n4. 12. (금)    2\n4. 9.(화)      2\n4. 10.(수)     1\n4. 14.(일)     1\nName: count, dtype: int64"
     },
     "execution_count": 310,
     "metadata": {},
     "output_type": "execute_result"
    }
   ],
   "source": [
    "date_counts = df['date'].value_counts()\n",
    "date_counts"
   ],
   "metadata": {
    "collapsed": false,
    "ExecuteTime": {
     "end_time": "2024-11-07T10:26:02.497908800Z",
     "start_time": "2024-11-07T10:26:02.476077500Z"
    }
   },
   "id": "327f6705e31aeb2"
  },
  {
   "cell_type": "code",
   "execution_count": 320,
   "outputs": [
    {
     "name": "stdout",
     "output_type": "stream",
     "text": [
      "         date  count\n",
      "0    4. 8.(월)      3\n",
      "1    4. 9.(화)      2\n",
      "2   4. 10.(수)      1\n",
      "3   4. 11.(목)      4\n",
      "4  4. 12. (금)      2\n",
      "5   4. 13.(토)      6\n",
      "6   4. 14.(일)      1\n"
     ]
    }
   ],
   "source": [
    "import re\n",
    "\n",
    "date_counts = df['date'].value_counts().reset_index()\n",
    "date_counts.columns = ['date', 'count']  # 열 이름 지정\n",
    "\n",
    "# 월과 일만 추출하는 함수 정의\n",
    "def extract_month_day(date_str):\n",
    "    match = re.search(r'(\\d+)\\.\\s*(\\d+)', date_str)\n",
    "    if match:\n",
    "        return int(match.group(1)), int(match.group(2))  # 월, 일 반환\n",
    "    return None\n",
    "\n",
    "# 'month', 'day' 열 추가\n",
    "date_counts[['month', 'day']] = date_counts['date'].apply(lambda x: pd.Series(extract_month_day(x)))\n",
    "\n",
    "# 월과 일 기준으로 정렬\n",
    "date_counts = date_counts.sort_values(by=['month', 'day']).drop(columns=['month', 'day']).reset_index(drop=True)\n",
    "\n",
    "#date 컬럼만\n",
    "date_column_df = date_counts[['date']]\n",
    "\n",
    "# 정렬된 결과 출력\n",
    "print(date_counts)"
   ],
   "metadata": {
    "collapsed": false,
    "ExecuteTime": {
     "end_time": "2024-11-07T10:28:41.425583500Z",
     "start_time": "2024-11-07T10:28:41.410640100Z"
    }
   },
   "id": "7c109edbeebca7"
  },
  {
   "cell_type": "code",
   "execution_count": 312,
   "outputs": [
    {
     "name": "stdout",
     "output_type": "stream",
     "text": [
      "0\n",
      "0: append\n",
      "1\n",
      "2\n",
      "2: delete\n",
      "3\n",
      "3: append\n",
      "3: append\n",
      "4\n",
      "5\n",
      "5: append\n",
      "5: append\n",
      "5: append\n",
      "5: append\n",
      "6\n",
      "6: delete\n"
     ]
    }
   ],
   "source": [
    "# print(date_counts.iloc[0])\n",
    "# count_value = date_counts.iloc[0]['count']\n",
    "# print(count_value)\n",
    "#데이터 갯수만큼 열 만들기\n",
    "\n",
    "for index, row in date_counts.iterrows():\n",
    "    pset = hwp.HParameterSet.HTableDeleteLine\n",
    "    hwp.move_to_field(f'time{{{{{index}}}}}')\n",
    "    print(index)\n",
    "    count = row['count']\n",
    "    \n",
    "    if count>2 :\n",
    "        for i in range(count - 2):\n",
    "            hwp.TableAppendRow()\n",
    "            print(f\"{index}\" + \": append\" )\n",
    "    elif (count == 2):\n",
    "        continue\n",
    "    else :\n",
    "        hwp.TableLowerCell()\n",
    "        hwp.HAction.GetDefault(\"TableDeleteRow\", pset.HSet)\n",
    "        #TLqkf\n",
    "        hwp.HAction.Execute(\"TableDeleteRow\", pset.HSet)\n",
    "        print(f\"{index}\"+\": delete\" )\n",
    "        \n",
    "        \n",
    "    "
   ],
   "metadata": {
    "collapsed": false,
    "ExecuteTime": {
     "end_time": "2024-11-07T10:26:04.126199600Z",
     "start_time": "2024-11-07T10:26:03.848149700Z"
    }
   },
   "id": "f79255e2e552862a"
  },
  {
   "cell_type": "markdown",
   "source": [],
   "metadata": {
    "collapsed": false
   },
   "id": "53cf1c33400b190e"
  },
  {
   "cell_type": "code",
   "execution_count": 312,
   "outputs": [],
   "source": [],
   "metadata": {
    "collapsed": false,
    "ExecuteTime": {
     "end_time": "2024-11-07T10:26:05.658375800Z",
     "start_time": "2024-11-07T10:26:05.656871400Z"
    }
   },
   "id": "f8d7ddbfa0ae6c4"
  },
  {
   "cell_type": "markdown",
   "source": [
    "date컬럼에 date값들 집어넣는 코드    (주의사항 : 한글의 월일 column에 셀 필드값이 date로 되어야함)"
   ],
   "metadata": {
    "collapsed": false
   },
   "id": "95e997727fe02ffa"
  },
  {
   "cell_type": "code",
   "execution_count": 313,
   "outputs": [
    {
     "name": "stdout",
     "output_type": "stream",
     "text": [
      "0 09:00:00\n",
      "1 13:30:00\n",
      "2 14:00:00\n",
      "3 10:00:00\n",
      "4 14:00:00\n",
      "5  \n",
      "6 09:30:00\n",
      "7 10:00:00\n",
      "8 10:00:00\n",
      "9 13:30:00\n",
      "10 09:00:00\n",
      "11 14:00:00\n",
      "12 08:00:00\n",
      "13 10:00:00\n",
      "14 10:00:00\n",
      "15 10:00:00\n",
      "16 15:00:00\n",
      "17 15:00:00\n",
      "18  \n"
     ]
    }
   ],
   "source": [
    "times = (df['time'])\n",
    "for index,time in enumerate(times):\n",
    "    print(index , time)\n",
    "    hwp.put_field_text(\"time\",f\"{time}\",index)\n",
    "\n",
    "        \n",
    "        "
   ],
   "metadata": {
    "collapsed": false,
    "ExecuteTime": {
     "end_time": "2024-11-07T10:26:07.021464700Z",
     "start_time": "2024-11-07T10:26:06.841784200Z"
    }
   },
   "id": "d2896a63742fa17c"
  },
  {
   "cell_type": "code",
   "execution_count": 314,
   "outputs": [],
   "source": [
    "for i in range(7):\n",
    "    \n",
    "    hwp.move_to_field(f'time{{{{{i}}}}}')\n",
    "    hwp.insert_text(f\"{i}\")\n"
   ],
   "metadata": {
    "collapsed": false,
    "ExecuteTime": {
     "end_time": "2024-11-07T10:26:07.822674800Z",
     "start_time": "2024-11-07T10:26:07.749980Z"
    }
   },
   "id": "10cff4544db5a101"
  },
  {
   "cell_type": "code",
   "execution_count": 336,
   "outputs": [
    {
     "name": "stdout",
     "output_type": "stream",
     "text": [
      "4. 8.(월)\n",
      "4. 9.(화)\n",
      "4. 10.(수)\n",
      "4. 11.(목)\n",
      "4. 12. (금)\n",
      "4. 13.(토)\n",
      "4. 14.(일)\n"
     ]
    }
   ],
   "source": [
    "# date 데이터 넣기\n",
    "for index, row in date_column_df.iterrows():\n",
    "    hwp.move_to_field(f'date{{{{{index}}}}}')\n",
    "    hwp.insert_text(row['date'])\n",
    "    print(row['date'])"
   ],
   "metadata": {
    "collapsed": false,
    "ExecuteTime": {
     "end_time": "2024-11-07T10:33:34.401506Z",
     "start_time": "2024-11-07T10:33:34.293829100Z"
    }
   },
   "id": "7514e5ccdf9e02f0"
  },
  {
   "cell_type": "code",
   "execution_count": 323,
   "outputs": [
    {
     "data": {
      "text/plain": "         date\n0    4. 8.(월)\n1    4. 9.(화)\n2   4. 10.(수)\n3   4. 11.(목)\n4  4. 12. (금)\n5   4. 13.(토)\n6   4. 14.(일)",
      "text/html": "<div>\n<style scoped>\n    .dataframe tbody tr th:only-of-type {\n        vertical-align: middle;\n    }\n\n    .dataframe tbody tr th {\n        vertical-align: top;\n    }\n\n    .dataframe thead th {\n        text-align: right;\n    }\n</style>\n<table border=\"1\" class=\"dataframe\">\n  <thead>\n    <tr style=\"text-align: right;\">\n      <th></th>\n      <th>date</th>\n    </tr>\n  </thead>\n  <tbody>\n    <tr>\n      <th>0</th>\n      <td>4. 8.(월)</td>\n    </tr>\n    <tr>\n      <th>1</th>\n      <td>4. 9.(화)</td>\n    </tr>\n    <tr>\n      <th>2</th>\n      <td>4. 10.(수)</td>\n    </tr>\n    <tr>\n      <th>3</th>\n      <td>4. 11.(목)</td>\n    </tr>\n    <tr>\n      <th>4</th>\n      <td>4. 12. (금)</td>\n    </tr>\n    <tr>\n      <th>5</th>\n      <td>4. 13.(토)</td>\n    </tr>\n    <tr>\n      <th>6</th>\n      <td>4. 14.(일)</td>\n    </tr>\n  </tbody>\n</table>\n</div>"
     },
     "execution_count": 323,
     "metadata": {},
     "output_type": "execute_result"
    }
   ],
   "source": [
    "#date컬럼\n",
    "\n",
    "for i in range(7):\n",
    "    \n"
   ],
   "metadata": {
    "collapsed": false,
    "ExecuteTime": {
     "end_time": "2024-11-07T10:29:03.103463Z",
     "start_time": "2024-11-07T10:29:03.085422700Z"
    }
   },
   "id": "4b8a4ac3f973c934"
  },
  {
   "cell_type": "code",
   "execution_count": 316,
   "outputs": [],
   "source": [
    "#date 제외 데이터 넣기\n",
    "df_no_date = df.drop(columns=['date'])\n",
    "hwp.set_pos(15,0,0)\n",
    "# 셀 전부 선택하는 코드 \n",
    "hwp.TableCellBlock()\n",
    "hwp.TableCellBlockExtend()\n",
    "hwp.TableColEnd()\n",
    "hwp.TableColPageDown()\n",
    "hwp.set_cur_field_name(\"imsi\")\n",
    "hwp.put_field_text(\"imsi\", df_no_date.values.flatten().tolist())\n"
   ],
   "metadata": {
    "collapsed": false,
    "ExecuteTime": {
     "end_time": "2024-11-07T10:26:09.145583800Z",
     "start_time": "2024-11-07T10:26:09.004741100Z"
    }
   },
   "id": "ecbdaedd78a72c7e"
  },
  {
   "cell_type": "code",
   "execution_count": 82,
   "outputs": [
    {
     "data": {
      "text/plain": "True"
     },
     "execution_count": 82,
     "metadata": {},
     "output_type": "execute_result"
    }
   ],
   "source": [
    "#hwp.MoveToField(\"date\", True, True, False)\n",
    "#-> 왜인지 모르겠지만 첫번쨰 date로 가진다 ㅇㅇ\n",
    "hwp.TableSplitCell()\n",
    "# 표 나누기"
   ],
   "metadata": {
    "collapsed": false,
    "ExecuteTime": {
     "end_time": "2024-11-06T11:15:13.632488500Z",
     "start_time": "2024-11-06T11:15:13.603466700Z"
    }
   },
   "id": "f35b1ff03d856bab"
  },
  {
   "cell_type": "code",
   "execution_count": 305,
   "outputs": [
    {
     "data": {
      "text/plain": "        time                            eventname        place personnel  \\\n0   09:00:00              중앙재난안전대책본부 영상회의(의료계 파업)      재난안전상황실         4   \n1   13:30:00                찾아가는 치매조기검진 및 치매 예방교육      외삼1통경로당        16   \n2   14:00:00           2024년 유성 데이터 기반 실증 리빙랩 발대식         대회의실        40   \n3   10:00:00                            나도갈래 과학소풍  대전정보문화산업진흥원        20   \n4   14:00:00             행복한 문화학교「박완서의 작품 세계 엿보기」        유성도서관        40   \n5                                                                          \n6   09:30:00            아가맘 바라온 만남 「동화 태교와 태담 태교」       아가랑도서관        10   \n7   10:00:00            상반기 공감 인문학 「임홍택 작가 초청 강연」        구암도서관        50   \n8   10:00:00                         독서동아리 역량강화교육    온라인(ZOOM)        15   \n9   13:30:00  제44회 장애인의 날 및 장애인종합복지관 개관 19주년 기념행사  유성구장애인종합복지관       800   \n10  09:00:00                      ·2024년 공무직 산업시찰       군산선유도         85   \n11  14:00:00        ·마음의 병과 치유 「아픈 마음의 연원과 철학 상담」        유성도서관        60   \n12  08:00:00                  2024 대청호 벚꽃길 마라톤대회    동구 신상동 282    5,000명   \n13  10:00:00            소셜다이닝「1인 가구 함께하는 식사」(1회차)    하기동 하하팜농장       30명   \n14  10:00:00          ·2024년 특성화 사업 제1회차‘인문학 콘서트’  유성문화원 1층전시실       30명   \n15  10:00:00                ·행복한 문화학교 「햄스터 로봇 코딩」        유성도서관       14명   \n16  15:00:00           ·노은도서관 동화 들려주기(Story Time)        노은도서관       40명   \n17  15:00:00         ·독서프로그램 「귀 기울여 영어동화」 영어원서 읽기   어린이영어마을도서관       10명   \n18                                                                         \n\n   department note  \n0       재난안전과       \n1       예방의약과       \n2       미래전략과       \n3       교육과학과       \n4      도서관운영과       \n5                   \n6      도서관운영과       \n7      도서관운영과       \n8      도서관운영과       \n9       사회돌봄과       \n10      운영지원과       \n11     도서관운영과       \n12        홍보실       \n13      미래전략과       \n14      문화관광과       \n15     도서관운영과       \n16     도서관운영과       \n17     도서관운영과       \n18                  ",
      "text/html": "<div>\n<style scoped>\n    .dataframe tbody tr th:only-of-type {\n        vertical-align: middle;\n    }\n\n    .dataframe tbody tr th {\n        vertical-align: top;\n    }\n\n    .dataframe thead th {\n        text-align: right;\n    }\n</style>\n<table border=\"1\" class=\"dataframe\">\n  <thead>\n    <tr style=\"text-align: right;\">\n      <th></th>\n      <th>time</th>\n      <th>eventname</th>\n      <th>place</th>\n      <th>personnel</th>\n      <th>department</th>\n      <th>note</th>\n    </tr>\n  </thead>\n  <tbody>\n    <tr>\n      <th>0</th>\n      <td>09:00:00</td>\n      <td>중앙재난안전대책본부 영상회의(의료계 파업)</td>\n      <td>재난안전상황실</td>\n      <td>4</td>\n      <td>재난안전과</td>\n      <td></td>\n    </tr>\n    <tr>\n      <th>1</th>\n      <td>13:30:00</td>\n      <td>찾아가는 치매조기검진 및 치매 예방교육</td>\n      <td>외삼1통경로당</td>\n      <td>16</td>\n      <td>예방의약과</td>\n      <td></td>\n    </tr>\n    <tr>\n      <th>2</th>\n      <td>14:00:00</td>\n      <td>2024년 유성 데이터 기반 실증 리빙랩 발대식</td>\n      <td>대회의실</td>\n      <td>40</td>\n      <td>미래전략과</td>\n      <td></td>\n    </tr>\n    <tr>\n      <th>3</th>\n      <td>10:00:00</td>\n      <td>나도갈래 과학소풍</td>\n      <td>대전정보문화산업진흥원</td>\n      <td>20</td>\n      <td>교육과학과</td>\n      <td></td>\n    </tr>\n    <tr>\n      <th>4</th>\n      <td>14:00:00</td>\n      <td>행복한 문화학교「박완서의 작품 세계 엿보기」</td>\n      <td>유성도서관</td>\n      <td>40</td>\n      <td>도서관운영과</td>\n      <td></td>\n    </tr>\n    <tr>\n      <th>5</th>\n      <td></td>\n      <td></td>\n      <td></td>\n      <td></td>\n      <td></td>\n      <td></td>\n    </tr>\n    <tr>\n      <th>6</th>\n      <td>09:30:00</td>\n      <td>아가맘 바라온 만남 「동화 태교와 태담 태교」</td>\n      <td>아가랑도서관</td>\n      <td>10</td>\n      <td>도서관운영과</td>\n      <td></td>\n    </tr>\n    <tr>\n      <th>7</th>\n      <td>10:00:00</td>\n      <td>상반기 공감 인문학 「임홍택 작가 초청 강연」</td>\n      <td>구암도서관</td>\n      <td>50</td>\n      <td>도서관운영과</td>\n      <td></td>\n    </tr>\n    <tr>\n      <th>8</th>\n      <td>10:00:00</td>\n      <td>독서동아리 역량강화교육</td>\n      <td>온라인(ZOOM)</td>\n      <td>15</td>\n      <td>도서관운영과</td>\n      <td></td>\n    </tr>\n    <tr>\n      <th>9</th>\n      <td>13:30:00</td>\n      <td>제44회 장애인의 날 및 장애인종합복지관 개관 19주년 기념행사</td>\n      <td>유성구장애인종합복지관</td>\n      <td>800</td>\n      <td>사회돌봄과</td>\n      <td></td>\n    </tr>\n    <tr>\n      <th>10</th>\n      <td>09:00:00</td>\n      <td>·2024년 공무직 산업시찰</td>\n      <td>군산선유도</td>\n      <td>85</td>\n      <td>운영지원과</td>\n      <td></td>\n    </tr>\n    <tr>\n      <th>11</th>\n      <td>14:00:00</td>\n      <td>·마음의 병과 치유 「아픈 마음의 연원과 철학 상담」</td>\n      <td>유성도서관</td>\n      <td>60</td>\n      <td>도서관운영과</td>\n      <td></td>\n    </tr>\n    <tr>\n      <th>12</th>\n      <td>08:00:00</td>\n      <td>2024 대청호 벚꽃길 마라톤대회</td>\n      <td>동구 신상동 282</td>\n      <td>5,000명</td>\n      <td>홍보실</td>\n      <td></td>\n    </tr>\n    <tr>\n      <th>13</th>\n      <td>10:00:00</td>\n      <td>소셜다이닝「1인 가구 함께하는 식사」(1회차)</td>\n      <td>하기동 하하팜농장</td>\n      <td>30명</td>\n      <td>미래전략과</td>\n      <td></td>\n    </tr>\n    <tr>\n      <th>14</th>\n      <td>10:00:00</td>\n      <td>·2024년 특성화 사업 제1회차‘인문학 콘서트’</td>\n      <td>유성문화원 1층전시실</td>\n      <td>30명</td>\n      <td>문화관광과</td>\n      <td></td>\n    </tr>\n    <tr>\n      <th>15</th>\n      <td>10:00:00</td>\n      <td>·행복한 문화학교 「햄스터 로봇 코딩」</td>\n      <td>유성도서관</td>\n      <td>14명</td>\n      <td>도서관운영과</td>\n      <td></td>\n    </tr>\n    <tr>\n      <th>16</th>\n      <td>15:00:00</td>\n      <td>·노은도서관 동화 들려주기(Story Time)</td>\n      <td>노은도서관</td>\n      <td>40명</td>\n      <td>도서관운영과</td>\n      <td></td>\n    </tr>\n    <tr>\n      <th>17</th>\n      <td>15:00:00</td>\n      <td>·독서프로그램 「귀 기울여 영어동화」 영어원서 읽기</td>\n      <td>어린이영어마을도서관</td>\n      <td>10명</td>\n      <td>도서관운영과</td>\n      <td></td>\n    </tr>\n    <tr>\n      <th>18</th>\n      <td></td>\n      <td></td>\n      <td></td>\n      <td></td>\n      <td></td>\n      <td></td>\n    </tr>\n  </tbody>\n</table>\n</div>"
     },
     "execution_count": 305,
     "metadata": {},
     "output_type": "execute_result"
    }
   ],
   "source": [],
   "metadata": {
    "collapsed": false,
    "ExecuteTime": {
     "end_time": "2024-11-07T10:25:25.032967500Z",
     "start_time": "2024-11-07T10:25:24.997102800Z"
    }
   },
   "id": "ebb38b7af31885c"
  },
  {
   "cell_type": "code",
   "execution_count": null,
   "outputs": [],
   "source": [],
   "metadata": {
    "collapsed": false
   },
   "id": "e72d6a45c3029732"
  }
 ],
 "metadata": {
  "kernelspec": {
   "display_name": "Python 3",
   "language": "python",
   "name": "python3"
  },
  "language_info": {
   "codemirror_mode": {
    "name": "ipython",
    "version": 2
   },
   "file_extension": ".py",
   "mimetype": "text/x-python",
   "name": "python",
   "nbconvert_exporter": "python",
   "pygments_lexer": "ipython2",
   "version": "2.7.6"
  }
 },
 "nbformat": 4,
 "nbformat_minor": 5
}
