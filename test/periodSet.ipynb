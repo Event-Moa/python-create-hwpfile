{
 "cells": [
  {
   "cell_type": "code",
   "execution_count": null,
   "id": "initial_id",
   "metadata": {
    "collapsed": true
   },
   "outputs": [],
   "source": [
    "%pip install pyhwpx"
   ]
  },
  {
   "cell_type": "markdown",
   "source": [
    "더미데이터 리스트 사용\n",
    "기간 설정하는 메소드 , setpos()로 \n",
    "자동으로 기간 설정해주는 코드\n",
    "year 데이터 필요한디"
   ],
   "metadata": {
    "collapsed": false
   },
   "id": "6006cab632d459ce"
  },
  {
   "cell_type": "code",
   "execution_count": null,
   "outputs": [],
   "source": [
    "from pyhwpx import Hwp\n",
    "\n",
    "try:\n",
    "    hwp = Hwp()\n",
    "    if not hwp.Open(r\"C:\\pythonProject\\template.hwp\"):\n",
    "        raise FileNotFoundError(\"파일을 열 수 없습니다. 경로를 다시 확인하세요.\")\n",
    "except FileNotFoundError as e:\n",
    "    print(f\"예외 발생: {e}\")\n",
    "except Exception as e:\n",
    "    print(f\"예상치 못한 오류 발생: {e}\")\n",
    "finally:\n",
    "    # 필요시 정리 작업 (예: 객체 닫기 등)\n",
    "    pass"
   ],
   "metadata": {
    "collapsed": false
   },
   "id": "295f985da91d74a6"
  },
  {
   "cell_type": "markdown",
   "source": [
    "그냥 더미데이터 데이터프레임 임시생성"
   ],
   "metadata": {
    "collapsed": false
   },
   "id": "838f4b79f9c51e5b"
  },
  {
   "cell_type": "code",
   "execution_count": null,
   "outputs": [],
   "source": [
    "# 더미 데이터\n",
    "year = []\n",
    "date = ['5.8.(월)', '5.9.(화)', '5.10.(수)'] \n",
    "time = ['08:00', '19:00', '20:00']\n",
    "eventname = ['2024년 유성 데이터 기반 실증 리빙랩 발대식', '우리동네 도서관 프로젝트 「이유리 작가 찾아가는 작가 강연」', '2024 대청호 벚꽃길 마라톤대회']\n",
    "place = ['재난안전 상황실', '외삼1통 경로당', '유성도서관']\n",
    "personnel = [5000, 8, 23]\n",
    "department = ['재난안전과', '예방의약과', '미래전략과']\n",
    "note = [None, '총장님', None]\n",
    "#더미데이터\n",
    "df = list(zip(date, time, eventname, place, personnel, department, note))\n",
    "df\n",
    "\n"
   ],
   "metadata": {
    "collapsed": false
   },
   "id": "8b06ff1550f0f651"
  },
  {
   "cell_type": "code",
   "execution_count": null,
   "outputs": [],
   "source": [
    "hwp.get_pos()\n",
    "#현재 커서 위치 측정\n",
    "# 처음 실행 했을때는 (0,0,24)가 고정인듯함 ㅇㅅㅇ"
   ],
   "metadata": {
    "collapsed": false
   },
   "id": "345459b887390d94"
  },
  {
   "cell_type": "markdown",
   "source": [
    "첫번째와 마지막 date를 얻는 함수\n",
    "나중에 다시 검토"
   ],
   "metadata": {
    "collapsed": false
   },
   "id": "ac8507f0ff0a1482"
  },
  {
   "cell_type": "code",
   "execution_count": null,
   "outputs": [],
   "source": [
    "# date얻는 첫번쨰 함수 근데 얘는 좀 이상함\n",
    "\n",
    "# def split_date_components(date_str):\n",
    "#     # 날짜 문자열에서 월, 일, 요일을 분리\n",
    "#     month, day, weekday = date_str.split('.')\n",
    "#     return month, day, weekday\n",
    "# \n",
    "# # 'date' 열의 첫 번째와 마지막 날짜를 반환하는 함수\n",
    "# def extract_first_last_dates(df):\n",
    "#     # 'date' 열에서 월과 일을 추출하여 정렬\n",
    "#     dates = [entry[0] for entry in df]\n",
    "#     dates.sort(key=lambda date: split_date_components(date))\n",
    "#     \n",
    "#     # 처음과 마지막 날짜 반환\n",
    "#     first_date = dates[0]\n",
    "#     last_date = dates[-1]\n",
    "#     \n",
    "#     return first_date, last_date\n",
    "# \n",
    "# \n",
    "# # 함수 호출\n",
    "# extract_first_last_dates(df)\n",
    "\n"
   ],
   "metadata": {
    "collapsed": false
   },
   "id": "553e34cbc3f8ed35"
  },
  {
   "cell_type": "code",
   "execution_count": null,
   "outputs": [],
   "source": [
    "# 날짜 문자열에서 월, 일, 요일을 분리하는 함수\n",
    "def split_date_components(date_str):\n",
    "    month, day, weekday = date_str.split('.')\n",
    "    return month, day, weekday\n",
    "    \n",
    "\n",
    "# 첫 번째와 마지막 날짜에서 월, 일, 요일을 분리하는 함수\n",
    "def get_first_last_date_components(df):\n",
    "    # df의 첫 번째와 마지막 인덱스에서 date 값 추출\n",
    "    first_date = df[0][0]  # 첫 번째 인덱스의 date 값\n",
    "    last_date = df[-1][0]  # 마지막 인덱스의 date 값\n",
    "    \n",
    "    # 첫 번째와 마지막 날짜의 월, 일, 요일을 분리\n",
    "    first_date_components = split_date_components(first_date)\n",
    "    last_date_components = split_date_components(last_date)\n",
    "    \n",
    "    return first_date_components, last_date_components\n",
    "\n",
    "\n",
    "first_date_components,last_date_components= get_first_last_date_components(df)\n",
    "first_date_components"
   ],
   "metadata": {
    "collapsed": false
   },
   "id": "e17f602be9de689"
  },
  {
   "cell_type": "code",
   "execution_count": null,
   "outputs": [],
   "source": [
    "#날짜바꾸기 set_pos(date) 버전 \n",
    "#처음날짜와 마지막날짜를 넣어주면 그걸로 날짜를 변환\n",
    "#first_date_components 는 튜플 ('5', '8', '월')형식\n",
    "\n",
    "def changePeriod(year,first_date_components, last_date_components):    \n",
    "    hwp.set_pos(5,0,0) \n",
    "    hwp.SelectAll()\n",
    "    firstMonth = first_date_components[0] + \".\"\n",
    "    firstDay = first_date_components[1] + \".\"\n",
    "    lastMonth = last_date_components[0] + \".\"\n",
    "    lastDay = last_date_components[1] + \".\"\n",
    "    \n",
    "    period = firstMonth+\" \"+firstDay+\" ~ \"+lastMonth+\" \"+ lastDay\n",
    "    \n",
    "    hwp.insert_text(\"[\"+year+\". \"+period+\"]\")\n",
    "\n"
   ],
   "metadata": {
    "collapsed": false
   },
   "id": "f5240737116631c7"
  },
  {
   "cell_type": "code",
   "execution_count": null,
   "outputs": [],
   "source": [
    "changePeriod('2024',first_date_components, last_date_components)\n",
    "#함수 호출\n"
   ],
   "metadata": {
    "collapsed": false
   },
   "id": "1420a0e7193533fa"
  }
 ],
 "metadata": {
  "kernelspec": {
   "display_name": "Python 3",
   "language": "python",
   "name": "python3"
  },
  "language_info": {
   "codemirror_mode": {
    "name": "ipython",
    "version": 2
   },
   "file_extension": ".py",
   "mimetype": "text/x-python",
   "name": "python",
   "nbconvert_exporter": "python",
   "pygments_lexer": "ipython2",
   "version": "2.7.6"
  }
 },
 "nbformat": 4,
 "nbformat_minor": 5
}
